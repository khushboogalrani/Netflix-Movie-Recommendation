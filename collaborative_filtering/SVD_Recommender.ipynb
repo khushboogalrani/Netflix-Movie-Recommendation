{
 "cells": [
  {
   "cell_type": "markdown",
   "id": "b549ee94",
   "metadata": {},
   "source": [
    "# 🎯 Movie Recommendation System using SVD (Collaborative Filtering)\n",
    "\n",
    "This notebook builds a recommendation system using Singular Value Decomposition (SVD) based collaborative filtering technique."
   ]
  },
  {
   "cell_type": "code",
   "execution_count": 2,
   "id": "3fdb8f7d",
   "metadata": {},
   "outputs": [],
   "source": [
    "import pandas as pd\n",
    "import numpy as np\n",
    "from surprise import Dataset, Reader, SVD\n",
    "from surprise.model_selection import cross_validate, train_test_split\n",
    "import gc\n",
    "from scipy.sparse import csr_matrix\n",
    "from sklearn.decomposition import TruncatedSVD\n",
    "\n",
    "import warnings\n",
    "warnings.filterwarnings(\"ignore\")"
   ]
  },
  {
   "cell_type": "markdown",
   "id": "af5fb2b8",
   "metadata": {},
   "source": [
    "#### Load Data"
   ]
  },
  {
   "cell_type": "code",
   "execution_count": 4,
   "id": "0bdf6c8c",
   "metadata": {},
   "outputs": [],
   "source": [
    "# Loading Filtered Data in Streaming Mode\n",
    "\n",
    "def load_filtered_data(file_path, chunk_size=5000000, min_user_ratings=20, min_movie_ratings=20):\n",
    "    user_counts = {}\n",
    "    movie_counts = {}\n",
    "    \n",
    "    # First pass: count users and movies\n",
    "    for chunk in pd.read_csv(file_path, usecols=['Cust_Id', 'Name', 'Rating'], chunksize=chunk_size):\n",
    "        user_counts.update(chunk['Cust_Id'].value_counts().to_dict())\n",
    "        movie_counts.update(chunk['Name'].value_counts().to_dict())\n",
    "    \n",
    "    # Find active users and popular movies\n",
    "    active_users = {user for user, count in user_counts.items() if count >= min_user_ratings}\n",
    "    popular_movies = {movie for movie, count in movie_counts.items() if count >= min_movie_ratings}\n",
    "    \n",
    "    print(f\"Active users found: {len(active_users)}\")\n",
    "    print(f\"Popular movies found: {len(popular_movies)}\")\n",
    "    \n",
    "    # Second pass: load only filtered data\n",
    "    filtered_chunks = []\n",
    "    for chunk in pd.read_csv(file_path, usecols=['Cust_Id', 'Name', 'Rating'], chunksize=chunk_size):\n",
    "        chunk = chunk[chunk['Cust_Id'].isin(active_users) & chunk['Name'].isin(popular_movies)]\n",
    "        filtered_chunks.append(chunk)\n",
    "    \n",
    "    data = pd.concat(filtered_chunks, ignore_index=True)\n",
    "    print(f\"Filtered dataset shape: {data.shape}\")\n",
    "    return data"
   ]
  },
  {
   "cell_type": "markdown",
   "id": "8193d1b3-1f6b-43eb-8e39-845a4fa58919",
   "metadata": {},
   "source": [
    "#### User Item Matrix"
   ]
  },
  {
   "cell_type": "code",
   "execution_count": 6,
   "id": "dd0201b6-2e98-4271-a4e7-761678ff0b65",
   "metadata": {
    "scrolled": true
   },
   "outputs": [],
   "source": [
    "def build_user_item_matrix(data):\n",
    "    user_mapper = {cust_id: idx for idx, cust_id in enumerate(data['Cust_Id'].unique())}\n",
    "    movie_mapper = {movie: idx for idx, movie in enumerate(data['Name'].unique())}\n",
    "    \n",
    "    user_index = data['Cust_Id'].map(user_mapper)\n",
    "    movie_index = data['Name'].map(movie_mapper)\n",
    "    \n",
    "    matrix = csr_matrix((data['Rating'], (user_index, movie_index)))\n",
    "    print(f\"User-Item matrix shape: {matrix.shape}\")\n",
    "    \n",
    "    return matrix, user_mapper, movie_mapper"
   ]
  },
  {
   "cell_type": "markdown",
   "id": "4e9617ed",
   "metadata": {},
   "source": [
    "#### Train the SVD Model"
   ]
  },
  {
   "cell_type": "code",
   "execution_count": 8,
   "id": "50a54f80-833b-4e7c-9712-08d5c6ad4b61",
   "metadata": {},
   "outputs": [],
   "source": [
    "def train_svd(matrix, n_components=50):\n",
    "    svd = TruncatedSVD(n_components=n_components, random_state=42)\n",
    "    matrix_reduced = svd.fit_transform(matrix)\n",
    "    print(f\"SVD reduced matrix shape: {matrix_reduced.shape}\")\n",
    "    return svd, matrix_reduced"
   ]
  },
  {
   "cell_type": "code",
   "execution_count": 9,
   "id": "242f5d31-c571-49e5-80e0-545abdef77eb",
   "metadata": {},
   "outputs": [],
   "source": [
    "def recommend_movies(user_id, matrix, user_mapper, movie_mapper, svd_model, top_n=5):\n",
    "    # Map user id to row index\n",
    "    if user_id not in user_mapper:\n",
    "        print(\"User not found.\")\n",
    "        return []\n",
    "    \n",
    "    user_idx = user_mapper[user_id]\n",
    "    approx_ratings = svd_model.inverse_transform(svd_model.transform(matrix))\n",
    "    user_ratings = approx_ratings[user_idx]\n",
    "    rated_movies = matrix[user_idx].nonzero()[1]\n",
    "    user_ratings[rated_movies] = -np.inf\n",
    "    top_indices = np.argsort(user_ratings)[-top_n:][::-1]\n",
    "    reverse_movie_mapper = {idx: movie for movie, idx in movie_mapper.items()}\n",
    "    recommended_movies = [reverse_movie_mapper[idx] for idx in top_indices]\n",
    "    return recommended_movies"
   ]
  },
  {
   "cell_type": "markdown",
   "id": "662f4b48",
   "metadata": {},
   "source": [
    "#### Evaluate Model Performance"
   ]
  },
  {
   "cell_type": "code",
   "execution_count": 11,
   "id": "7233432a-a30d-4a0b-9abd-a01c47a63f14",
   "metadata": {},
   "outputs": [
    {
     "name": "stdout",
     "output_type": "stream",
     "text": [
      "Active users found: 5374\n",
      "Popular movies found: 17283\n",
      "Filtered dataset shape: (3343565, 3)\n"
     ]
    }
   ],
   "source": [
    "file_path = '../data/Full_Data.csv'\n",
    "filtered_data = load_filtered_data(file_path)"
   ]
  },
  {
   "cell_type": "code",
   "execution_count": 13,
   "id": "5a00dcd5",
   "metadata": {
    "scrolled": true
   },
   "outputs": [
    {
     "name": "stdout",
     "output_type": "stream",
     "text": [
      "User-Item matrix shape: (5374, 17280)\n",
      "SVD reduced matrix shape: (5374, 50)\n"
     ]
    }
   ],
   "source": [
    "matrix, user_mapper, movie_mapper = build_user_item_matrix(filtered_data)\n",
    "\n",
    "svd_model, reduced_matrix = train_svd(matrix)"
   ]
  },
  {
   "cell_type": "markdown",
   "id": "29c07403-324c-49d2-910a-987a315a83f4",
   "metadata": {},
   "source": [
    "#### Test"
   ]
  },
  {
   "cell_type": "code",
   "execution_count": 43,
   "id": "59633279-2789-45e5-8728-5f74ce5070cf",
   "metadata": {},
   "outputs": [
    {
     "name": "stdout",
     "output_type": "stream",
     "text": [
      "Recommended Movies: ['Dr. Quinn', 'Upstairs', 'Henry V', 'Bad Company', 'Richard III']\n"
     ]
    }
   ],
   "source": [
    "user_id = 1673185\n",
    "recommendations = recommend_movies(user_id, matrix, user_mapper, movie_mapper, svd_model, top_n=5)\n",
    "\n",
    "print(\"Recommended Movies:\", recommendations)"
   ]
  }
 ],
 "metadata": {
  "kernelspec": {
   "display_name": "Python [conda env:base] *",
   "language": "python",
   "name": "conda-base-py"
  },
  "language_info": {
   "codemirror_mode": {
    "name": "ipython",
    "version": 3
   },
   "file_extension": ".py",
   "mimetype": "text/x-python",
   "name": "python",
   "nbconvert_exporter": "python",
   "pygments_lexer": "ipython3",
   "version": "3.12.3"
  }
 },
 "nbformat": 4,
 "nbformat_minor": 5
}
