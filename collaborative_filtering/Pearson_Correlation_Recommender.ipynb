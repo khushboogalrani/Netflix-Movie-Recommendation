{
 "cells": [
  {
   "cell_type": "markdown",
   "id": "454f5482",
   "metadata": {},
   "source": [
    "# 🎯 Movie Recommendation System using Pearson Correlation\n",
    "\n",
    "This notebook builds a Collaborative Filtering recommendation system using Pearson correlation to find similar users and suggest movies."
   ]
  },
  {
   "cell_type": "code",
   "execution_count": 1,
   "id": "28d72038",
   "metadata": {},
   "outputs": [],
   "source": [
    "import pandas as pd\n",
    "import numpy as np\n",
    "from scipy.sparse import csr_matrix"
   ]
  },
  {
   "cell_type": "markdown",
   "id": "47dec716",
   "metadata": {},
   "source": [
    "#### Load Data"
   ]
  },
  {
   "cell_type": "code",
   "execution_count": 3,
   "id": "e6e08624",
   "metadata": {},
   "outputs": [],
   "source": [
    "full_data = pd.read_csv('../data/Full_Data.csv')"
   ]
  },
  {
   "cell_type": "code",
   "execution_count": 30,
   "id": "aebe8744-9df6-4c08-94eb-f1bdbbebe863",
   "metadata": {},
   "outputs": [
    {
     "data": {
      "text/html": [
       "<div>\n",
       "<style scoped>\n",
       "    .dataframe tbody tr th:only-of-type {\n",
       "        vertical-align: middle;\n",
       "    }\n",
       "\n",
       "    .dataframe tbody tr th {\n",
       "        vertical-align: top;\n",
       "    }\n",
       "\n",
       "    .dataframe thead th {\n",
       "        text-align: right;\n",
       "    }\n",
       "</style>\n",
       "<table border=\"1\" class=\"dataframe\">\n",
       "  <thead>\n",
       "    <tr style=\"text-align: right;\">\n",
       "      <th></th>\n",
       "      <th>Cust_Id</th>\n",
       "      <th>Movie_Id</th>\n",
       "      <th>Rating</th>\n",
       "      <th>Date</th>\n",
       "      <th>Year_Release</th>\n",
       "      <th>Name</th>\n",
       "    </tr>\n",
       "  </thead>\n",
       "  <tbody>\n",
       "    <tr>\n",
       "      <th>0</th>\n",
       "      <td>1488844</td>\n",
       "      <td>1</td>\n",
       "      <td>3</td>\n",
       "      <td>2005-09-06</td>\n",
       "      <td>2003.0</td>\n",
       "      <td>Dinosaur Planet</td>\n",
       "    </tr>\n",
       "    <tr>\n",
       "      <th>1</th>\n",
       "      <td>822109</td>\n",
       "      <td>1</td>\n",
       "      <td>5</td>\n",
       "      <td>2005-05-13</td>\n",
       "      <td>2003.0</td>\n",
       "      <td>Dinosaur Planet</td>\n",
       "    </tr>\n",
       "    <tr>\n",
       "      <th>2</th>\n",
       "      <td>885013</td>\n",
       "      <td>1</td>\n",
       "      <td>4</td>\n",
       "      <td>2005-10-19</td>\n",
       "      <td>2003.0</td>\n",
       "      <td>Dinosaur Planet</td>\n",
       "    </tr>\n",
       "  </tbody>\n",
       "</table>\n",
       "</div>"
      ],
      "text/plain": [
       "   Cust_Id  Movie_Id  Rating        Date  Year_Release             Name\n",
       "0  1488844         1       3  2005-09-06        2003.0  Dinosaur Planet\n",
       "1   822109         1       5  2005-05-13        2003.0  Dinosaur Planet\n",
       "2   885013         1       4  2005-10-19        2003.0  Dinosaur Planet"
      ]
     },
     "execution_count": 30,
     "metadata": {},
     "output_type": "execute_result"
    }
   ],
   "source": [
    "full_data.head(3)"
   ]
  },
  {
   "cell_type": "code",
   "execution_count": 32,
   "id": "321495d3-d120-413a-96d7-667d090cf671",
   "metadata": {},
   "outputs": [
    {
     "data": {
      "text/plain": [
       "(100480507, 6)"
      ]
     },
     "execution_count": 32,
     "metadata": {},
     "output_type": "execute_result"
    }
   ],
   "source": [
    "full_data.shape"
   ]
  },
  {
   "cell_type": "markdown",
   "id": "55260ac0-ec01-48d2-af89-9c0a91663091",
   "metadata": {},
   "source": [
    "#### Cleaning"
   ]
  },
  {
   "cell_type": "code",
   "execution_count": 35,
   "id": "b9f5b305-71b9-40b2-bc77-7402ecfb480b",
   "metadata": {},
   "outputs": [],
   "source": [
    "users = full_data['Cust_Id'].unique()\n",
    "movies = full_data['Name'].unique()"
   ]
  },
  {
   "cell_type": "markdown",
   "id": "f1012e5d-3556-431b-ae79-708ed723c420",
   "metadata": {},
   "source": [
    "#### Mapping"
   ]
  },
  {
   "cell_type": "code",
   "execution_count": 37,
   "id": "201fe806-46d7-4ad7-8946-544cef84fb31",
   "metadata": {},
   "outputs": [],
   "source": [
    "user_map = {user: i for i, user in enumerate(users)}\n",
    "movie_map = {movie: i for i, movie in enumerate(movies)}\n",
    "reverse_user_map = {i: user for i, user in enumerate(users)}\n",
    "reverse_movie_map = {i: movie for i, movie in enumerate(movies)}"
   ]
  },
  {
   "cell_type": "code",
   "execution_count": 38,
   "id": "c5d56ccc-026b-480a-8013-246b9309f863",
   "metadata": {},
   "outputs": [],
   "source": [
    "rows = full_data['Cust_Id'].map(user_map).values\n",
    "cols = full_data['Name'].map(movie_map).values\n",
    "ratings = full_data['Rating'].values"
   ]
  },
  {
   "cell_type": "code",
   "execution_count": 41,
   "id": "476178d9-e9ff-4fb0-ae3e-4c91d8951873",
   "metadata": {},
   "outputs": [],
   "source": [
    "valid_indices = ~np.isnan(rows) & ~np.isnan(cols)\n",
    "rows = rows[valid_indices].astype(int)\n",
    "cols = cols[valid_indices].astype(int)\n",
    "ratings = ratings[valid_indices]"
   ]
  },
  {
   "cell_type": "markdown",
   "id": "08746862",
   "metadata": {},
   "source": [
    "#### Sparse Matrix"
   ]
  },
  {
   "cell_type": "code",
   "execution_count": 43,
   "id": "33777bdb",
   "metadata": {},
   "outputs": [],
   "source": [
    "user_movie_matrix = csr_matrix((ratings, (rows, cols)), \n",
    "                              shape=(len(users), len(movies)))"
   ]
  },
  {
   "cell_type": "markdown",
   "id": "10e011a3",
   "metadata": {},
   "source": [
    "#### Recommend Movies"
   ]
  },
  {
   "cell_type": "code",
   "execution_count": 69,
   "id": "b243de01",
   "metadata": {},
   "outputs": [],
   "source": [
    "def get_recommendations(target_user_id, num_recommendations=5):\n",
    "    target_idx = user_map[target_user_id]\n",
    "    target_ratings = user_movie_matrix[target_idx].toarray().flatten()\n",
    "    target_watched = target_ratings > 0\n",
    "    \n",
    "    print(f\"User has rated {np.sum(target_watched)} movies\")\n",
    "    \n",
    "    if not np.any(target_watched):\n",
    "        return []\n",
    "    \n",
    "    target_mean = float(target_ratings[target_watched].mean())\n",
    "    print(f\"User's average rating: {target_mean:.2f}\")\n",
    "    \n",
    "    n_users = user_movie_matrix.shape[0]\n",
    "    similarities = np.zeros(n_users)\n",
    "    \n",
    "    print(\"Finding similar users...\")\n",
    "    similar_count = 0\n",
    "    for other_idx in range(n_users):\n",
    "        if other_idx == target_idx:\n",
    "            continue\n",
    "        \n",
    "        other_ratings = user_movie_matrix[other_idx].toarray().flatten()\n",
    "        other_watched = other_ratings > 0\n",
    "        \n",
    "        common = np.logical_and(target_watched, other_watched)\n",
    "        common_count = np.sum(common)\n",
    "        \n",
    "        if common_count < 3:\n",
    "            continue\n",
    "        \n",
    "        other_mean = float(other_ratings[other_watched].mean())\n",
    "        \n",
    "        target_norm = target_ratings.astype(float).copy()\n",
    "        target_norm[target_watched] -= target_mean\n",
    "        other_norm = other_ratings.astype(float).copy()\n",
    "        other_norm[other_watched] -= other_mean\n",
    "        \n",
    "        numerator = np.sum(target_norm[common] * other_norm[common])\n",
    "        denominator = np.sqrt(np.sum(target_norm[common]**2) * np.sum(other_norm[common]**2))\n",
    "        \n",
    "        if denominator > 0:\n",
    "            similarities[other_idx] = numerator / denominator\n",
    "            similar_count += 1\n",
    "    \n",
    "    print(f\"Found {similar_count} users with similar tastes\")\n",
    "    \n",
    "    top_similar = np.argsort(similarities)[-10:][::-1]\n",
    "    top_scores = similarities[top_similar]\n",
    "    \n",
    "    print(\"Top 5 similarity scores:\", top_scores[:5])\n",
    "    \n",
    "    movie_scores = np.zeros(user_movie_matrix.shape[1])\n",
    "    weight_sums = np.zeros(user_movie_matrix.shape[1])\n",
    "    \n",
    "    potential_recs = 0\n",
    "    \n",
    "    for i, other_idx in enumerate(top_similar):\n",
    "        if top_scores[i] <= 0:\n",
    "            continue\n",
    "        \n",
    "        other_ratings = user_movie_matrix[other_idx].toarray().flatten()\n",
    "        \n",
    "        for movie_idx in range(len(movie_scores)):\n",
    "            if not target_watched[movie_idx] and other_ratings[movie_idx] > 0:\n",
    "                movie_scores[movie_idx] += other_ratings[movie_idx] * top_scores[i]\n",
    "                weight_sums[movie_idx] += top_scores[i]\n",
    "                potential_recs += 1\n",
    "    \n",
    "    print(f\"Considering {potential_recs} potential movie recommendations\")\n",
    "    \n",
    "    for i in range(len(movie_scores)):\n",
    "        if weight_sums[i] > 0:\n",
    "            movie_scores[i] /= weight_sums[i]\n",
    "    \n",
    "    top_movie_indices = np.argsort(movie_scores)[-num_recommendations:][::-1]\n",
    "    recommendations = [(reverse_movie_map[idx], movie_scores[idx]) \n",
    "                     for idx in top_movie_indices if movie_scores[idx] > 0]\n",
    "    \n",
    "    print(f\"Found {len(recommendations)} final recommendations\")\n",
    "    return recommendations"
   ]
  },
  {
   "cell_type": "markdown",
   "id": "04c5786a",
   "metadata": {},
   "source": [
    "#### Test"
   ]
  },
  {
   "cell_type": "code",
   "execution_count": 72,
   "id": "77e864f6",
   "metadata": {},
   "outputs": [
    {
     "name": "stdout",
     "output_type": "stream",
     "text": [
      "User has rated 2169 movies\n",
      "User's average rating: 3.31\n",
      "Finding similar users...\n",
      "Found 470442 users with similar tastes\n",
      "Top 5 similarity scores: [1. 1. 1. 1. 1.]\n",
      "Considering 83 potential movie recommendations\n",
      "Found 5 final recommendations\n",
      "Top recommended movies for User ID 1488844:\n",
      "- Million Dollar Baby (Score: 5.00)\n",
      "- Mobile Suit Gundam SEED (Score: 5.00)\n",
      "- Angel: Season 3 (Score: 5.00)\n",
      "- Cowboy Bebop: The Movie (Score: 5.00)\n",
      "- House (Score: 5.00)\n"
     ]
    }
   ],
   "source": [
    "sample_user_id = 1488844\n",
    "recommended_movies = get_recommendations(sample_user_id, 5)\n",
    "print(f\"Top recommended movies for User ID {sample_user_id}:\")\n",
    "for movie, score in recommended_movies:\n",
    "    print(f\"- {movie} (Score: {score:.2f})\")"
   ]
  }
 ],
 "metadata": {
  "kernelspec": {
   "display_name": "Python [conda env:base] *",
   "language": "python",
   "name": "conda-base-py"
  },
  "language_info": {
   "codemirror_mode": {
    "name": "ipython",
    "version": 3
   },
   "file_extension": ".py",
   "mimetype": "text/x-python",
   "name": "python",
   "nbconvert_exporter": "python",
   "pygments_lexer": "ipython3",
   "version": "3.12.3"
  }
 },
 "nbformat": 4,
 "nbformat_minor": 5
}
