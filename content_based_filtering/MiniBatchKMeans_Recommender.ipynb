{
 "cells": [
  {
   "cell_type": "markdown",
   "id": "18f0c52a",
   "metadata": {},
   "source": [
    "# 🎯 Movie Recommendation using MiniBatchKMeans Clustering\n",
    "\n",
    "This notebook builds a movie recommendation system by clustering movies based on TF-IDF features of their metadata and suggesting from the same cluster."
   ]
  },
  {
   "cell_type": "code",
   "execution_count": 52,
   "id": "6406a030",
   "metadata": {},
   "outputs": [],
   "source": [
    "import pandas as pd\n",
    "import numpy as np\n",
    "from sklearn.feature_extraction.text import TfidfVectorizer\n",
    "from sklearn.cluster import MiniBatchKMeans\n",
    "from sklearn.metrics.pairwise import linear_kernel"
   ]
  },
  {
   "cell_type": "markdown",
   "id": "13fd533d",
   "metadata": {},
   "source": [
    "#### Load Data"
   ]
  },
  {
   "cell_type": "code",
   "execution_count": 55,
   "id": "f95c23aa",
   "metadata": {},
   "outputs": [
    {
     "data": {
      "text/html": [
       "<div>\n",
       "<style scoped>\n",
       "    .dataframe tbody tr th:only-of-type {\n",
       "        vertical-align: middle;\n",
       "    }\n",
       "\n",
       "    .dataframe tbody tr th {\n",
       "        vertical-align: top;\n",
       "    }\n",
       "\n",
       "    .dataframe thead th {\n",
       "        text-align: right;\n",
       "    }\n",
       "</style>\n",
       "<table border=\"1\" class=\"dataframe\">\n",
       "  <thead>\n",
       "    <tr style=\"text-align: right;\">\n",
       "      <th></th>\n",
       "      <th>show_id</th>\n",
       "      <th>type</th>\n",
       "      <th>title</th>\n",
       "      <th>director</th>\n",
       "      <th>cast</th>\n",
       "      <th>country</th>\n",
       "      <th>date_added</th>\n",
       "      <th>release_year</th>\n",
       "      <th>rating</th>\n",
       "      <th>duration</th>\n",
       "      <th>listed_in</th>\n",
       "      <th>description</th>\n",
       "      <th>combined_features</th>\n",
       "    </tr>\n",
       "  </thead>\n",
       "  <tbody>\n",
       "    <tr>\n",
       "      <th>0</th>\n",
       "      <td>s1</td>\n",
       "      <td>Movie</td>\n",
       "      <td>Dick Johnson Is Dead</td>\n",
       "      <td>Kirsten Johnson</td>\n",
       "      <td></td>\n",
       "      <td>United States</td>\n",
       "      <td>September 25, 2021</td>\n",
       "      <td>2020</td>\n",
       "      <td>PG-13</td>\n",
       "      <td>90 min</td>\n",
       "      <td>Documentaries</td>\n",
       "      <td>As her father nears the end of his life, filmm...</td>\n",
       "      <td>Dick Johnson Is Dead As her father nears the e...</td>\n",
       "    </tr>\n",
       "    <tr>\n",
       "      <th>1</th>\n",
       "      <td>s2</td>\n",
       "      <td>TV Show</td>\n",
       "      <td>Blood &amp; Water</td>\n",
       "      <td></td>\n",
       "      <td>Ama Qamata, Khosi Ngema, Gail Mabalane, Thaban...</td>\n",
       "      <td>South Africa</td>\n",
       "      <td>September 24, 2021</td>\n",
       "      <td>2021</td>\n",
       "      <td>TV-MA</td>\n",
       "      <td>2 Seasons</td>\n",
       "      <td>International TV Shows, TV Dramas, TV Mysteries</td>\n",
       "      <td>After crossing paths at a party, a Cape Town t...</td>\n",
       "      <td>Blood &amp; Water After crossing paths at a party,...</td>\n",
       "    </tr>\n",
       "    <tr>\n",
       "      <th>2</th>\n",
       "      <td>s3</td>\n",
       "      <td>TV Show</td>\n",
       "      <td>Ganglands</td>\n",
       "      <td>Julien Leclercq</td>\n",
       "      <td>Sami Bouajila, Tracy Gotoas, Samuel Jouy, Nabi...</td>\n",
       "      <td></td>\n",
       "      <td>September 24, 2021</td>\n",
       "      <td>2021</td>\n",
       "      <td>TV-MA</td>\n",
       "      <td>1 Season</td>\n",
       "      <td>Crime TV Shows, International TV Shows, TV Act...</td>\n",
       "      <td>To protect his family from a powerful drug lor...</td>\n",
       "      <td>Ganglands To protect his family from a powerfu...</td>\n",
       "    </tr>\n",
       "    <tr>\n",
       "      <th>3</th>\n",
       "      <td>s4</td>\n",
       "      <td>TV Show</td>\n",
       "      <td>Jailbirds New Orleans</td>\n",
       "      <td></td>\n",
       "      <td></td>\n",
       "      <td></td>\n",
       "      <td>September 24, 2021</td>\n",
       "      <td>2021</td>\n",
       "      <td>TV-MA</td>\n",
       "      <td>1 Season</td>\n",
       "      <td>Docuseries, Reality TV</td>\n",
       "      <td>Feuds, flirtations and toilet talk go down amo...</td>\n",
       "      <td>Jailbirds New Orleans Feuds, flirtations and t...</td>\n",
       "    </tr>\n",
       "    <tr>\n",
       "      <th>4</th>\n",
       "      <td>s5</td>\n",
       "      <td>TV Show</td>\n",
       "      <td>Kota Factory</td>\n",
       "      <td></td>\n",
       "      <td>Mayur More, Jitendra Kumar, Ranjan Raj, Alam K...</td>\n",
       "      <td>India</td>\n",
       "      <td>September 24, 2021</td>\n",
       "      <td>2021</td>\n",
       "      <td>TV-MA</td>\n",
       "      <td>2 Seasons</td>\n",
       "      <td>International TV Shows, Romantic TV Shows, TV ...</td>\n",
       "      <td>In a city of coaching centers known to train I...</td>\n",
       "      <td>Kota Factory In a city of coaching centers kno...</td>\n",
       "    </tr>\n",
       "  </tbody>\n",
       "</table>\n",
       "</div>"
      ],
      "text/plain": [
       "  show_id     type                  title         director  \\\n",
       "0      s1    Movie   Dick Johnson Is Dead  Kirsten Johnson   \n",
       "1      s2  TV Show          Blood & Water                    \n",
       "2      s3  TV Show              Ganglands  Julien Leclercq   \n",
       "3      s4  TV Show  Jailbirds New Orleans                    \n",
       "4      s5  TV Show           Kota Factory                    \n",
       "\n",
       "                                                cast        country  \\\n",
       "0                                                     United States   \n",
       "1  Ama Qamata, Khosi Ngema, Gail Mabalane, Thaban...   South Africa   \n",
       "2  Sami Bouajila, Tracy Gotoas, Samuel Jouy, Nabi...                  \n",
       "3                                                                     \n",
       "4  Mayur More, Jitendra Kumar, Ranjan Raj, Alam K...          India   \n",
       "\n",
       "           date_added  release_year rating   duration  \\\n",
       "0  September 25, 2021          2020  PG-13     90 min   \n",
       "1  September 24, 2021          2021  TV-MA  2 Seasons   \n",
       "2  September 24, 2021          2021  TV-MA   1 Season   \n",
       "3  September 24, 2021          2021  TV-MA   1 Season   \n",
       "4  September 24, 2021          2021  TV-MA  2 Seasons   \n",
       "\n",
       "                                           listed_in  \\\n",
       "0                                      Documentaries   \n",
       "1    International TV Shows, TV Dramas, TV Mysteries   \n",
       "2  Crime TV Shows, International TV Shows, TV Act...   \n",
       "3                             Docuseries, Reality TV   \n",
       "4  International TV Shows, Romantic TV Shows, TV ...   \n",
       "\n",
       "                                         description  \\\n",
       "0  As her father nears the end of his life, filmm...   \n",
       "1  After crossing paths at a party, a Cape Town t...   \n",
       "2  To protect his family from a powerful drug lor...   \n",
       "3  Feuds, flirtations and toilet talk go down amo...   \n",
       "4  In a city of coaching centers known to train I...   \n",
       "\n",
       "                                   combined_features  \n",
       "0  Dick Johnson Is Dead As her father nears the e...  \n",
       "1  Blood & Water After crossing paths at a party,...  \n",
       "2  Ganglands To protect his family from a powerfu...  \n",
       "3  Jailbirds New Orleans Feuds, flirtations and t...  \n",
       "4  Kota Factory In a city of coaching centers kno...  "
      ]
     },
     "execution_count": 55,
     "metadata": {},
     "output_type": "execute_result"
    }
   ],
   "source": [
    "df = pd.read_csv('../data/netflix_titles.csv')\n",
    "df.fillna('', inplace=True)\n",
    "df['combined_features'] = (\n",
    "    df['title'] + ' ' + \n",
    "    df['description'] + ' ' + \n",
    "    df['director'] + ' ' + \n",
    "    df['cast'] + ' ' + \n",
    "    df['listed_in'] + ' ' + \n",
    "    df['country']\n",
    ")\n",
    "df.head()"
   ]
  },
  {
   "cell_type": "markdown",
   "id": "322460d4",
   "metadata": {},
   "source": [
    "#### Create TF-IDF Features"
   ]
  },
  {
   "cell_type": "code",
   "execution_count": 58,
   "id": "2e72374d",
   "metadata": {},
   "outputs": [
    {
     "name": "stdout",
     "output_type": "stream",
     "text": [
      "TF-IDF matrix shape: (8807, 52965)\n"
     ]
    }
   ],
   "source": [
    "tfidf = TfidfVectorizer(stop_words='english')\n",
    "tfidf_matrix = tfidf.fit_transform(df['combined_features'])\n",
    "print(f\"TF-IDF matrix shape: {tfidf_matrix.shape}\")"
   ]
  },
  {
   "cell_type": "markdown",
   "id": "35524d54",
   "metadata": {},
   "source": [
    "#### MiniBatchKMeans Clustering"
   ]
  },
  {
   "cell_type": "code",
   "execution_count": 60,
   "id": "54e569ea",
   "metadata": {},
   "outputs": [],
   "source": [
    "kmeans = MiniBatchKMeans(\n",
    "    n_clusters=100,\n",
    "    batch_size=500,\n",
    "    random_state=42,\n",
    "    init='k-means++'\n",
    ")\n",
    "df['cluster'] = kmeans.fit_predict(tfidf_matrix)"
   ]
  },
  {
   "cell_type": "markdown",
   "id": "3ee74043",
   "metadata": {},
   "source": [
    "#### Recommendation Function Based on Cluster"
   ]
  },
  {
   "cell_type": "code",
   "execution_count": 63,
   "id": "fac6d3a4-0174-4628-bd2c-37fceba8fd3c",
   "metadata": {},
   "outputs": [],
   "source": [
    "def recommend_by_cluster(movie_title, n_recommendations=10):\n",
    "    if movie_title not in df['title'].values:\n",
    "        return []\n",
    "    movie_cluster = df[df['title'] == movie_title]['cluster'].values[0]\n",
    "    similar_movies = df[df['cluster'] == movie_cluster]\n",
    "    return similar_movies[similar_movies['title'] != movie_title]['title'].tolist()[:n_recommendations]"
   ]
  },
  {
   "cell_type": "markdown",
   "id": "97222b7a-357c-41fe-a6db-5abacec6c6c5",
   "metadata": {},
   "source": [
    "#### Recommendation Function Based on cosine similarity"
   ]
  },
  {
   "cell_type": "code",
   "execution_count": 65,
   "id": "5a13c4bd-071e-4115-bf93-2931809f4a5e",
   "metadata": {},
   "outputs": [],
   "source": [
    "def recommend_by_similarity(movie_title, n_recommendations=10):\n",
    "    if movie_title not in df['title'].values:\n",
    "        return []\n",
    "    movie_idx = df[df['title'] == movie_title].index[0]\n",
    "    cosine_similarities = linear_kernel(\n",
    "        tfidf_matrix[movie_idx:movie_idx+1], \n",
    "        tfidf_matrix\n",
    "    ).flatten()\n",
    "    similar_indices = [i for i in cosine_similarities.argsort()[::-1] \n",
    "                      if i != movie_idx][:n_recommendations]\n",
    "    return df.iloc[similar_indices]['title'].tolist()"
   ]
  },
  {
   "cell_type": "markdown",
   "id": "39e908fa-33e4-47b9-8fea-b88ce171951a",
   "metadata": {},
   "source": [
    "#### Recommendation"
   ]
  },
  {
   "cell_type": "code",
   "execution_count": 67,
   "id": "81978a5f",
   "metadata": {},
   "outputs": [],
   "source": [
    "def hybrid_recommend(movie_title, n_recommendations=10):\n",
    "    \"\"\"Hybrid recommendation combining cluster and similarity methods.\"\"\"\n",
    "    cluster_recs = set(recommend_by_cluster(movie_title, n_recommendations*2))\n",
    "    similarity_recs = set(recommend_by_similarity(movie_title, n_recommendations*2))\n",
    "    common_recs = list(cluster_recs.intersection(similarity_recs))\n",
    "    remaining = n_recommendations - len(common_recs)\n",
    "    if remaining > 0:\n",
    "        unique_cluster = list(cluster_recs - set(common_recs))\n",
    "        unique_similarity = list(similarity_recs - set(common_recs))\n",
    "        additional_recs = []\n",
    "        for i in range(min(remaining, len(unique_cluster) + len(unique_similarity))):\n",
    "            if i % 2 == 0 and unique_similarity:\n",
    "                additional_recs.append(unique_similarity.pop(0))\n",
    "            elif unique_cluster:\n",
    "                additional_recs.append(unique_cluster.pop(0))\n",
    "            elif unique_similarity:\n",
    "                additional_recs.append(unique_similarity.pop(0))\n",
    "        return common_recs + additional_recs[:remaining]\n",
    "    return common_recs[:n_recommendations]"
   ]
  },
  {
   "cell_type": "markdown",
   "id": "4af2d572",
   "metadata": {},
   "source": [
    "#### Test"
   ]
  },
  {
   "cell_type": "code",
   "execution_count": 73,
   "id": "7df06c63",
   "metadata": {},
   "outputs": [
    {
     "name": "stdout",
     "output_type": "stream",
     "text": [
      "\n",
      "Top recommendations for 'Twilight':\n",
      "1. The Twilight Saga: Breaking Dawn: Part 1\n",
      "2. Sankofa\n",
      "3. The Twilight Saga: Breaking Dawn: Part 2\n",
      "4. Confessions of an Invisible Girl\n",
      "5. The Vanished\n"
     ]
    }
   ],
   "source": [
    "sample_movie = 'Twilight'\n",
    "recommendations = hybrid_recommend(sample_movie, 5)\n",
    "\n",
    "print(f\"\\nTop recommendations for '{sample_movie}':\")\n",
    "for i, movie in enumerate(recommendations, 1):\n",
    "    print(f\"{i}. {movie}\")"
   ]
  }
 ],
 "metadata": {
  "kernelspec": {
   "display_name": "Python [conda env:base] *",
   "language": "python",
   "name": "conda-base-py"
  },
  "language_info": {
   "codemirror_mode": {
    "name": "ipython",
    "version": 3
   },
   "file_extension": ".py",
   "mimetype": "text/x-python",
   "name": "python",
   "nbconvert_exporter": "python",
   "pygments_lexer": "ipython3",
   "version": "3.12.3"
  }
 },
 "nbformat": 4,
 "nbformat_minor": 5
}
