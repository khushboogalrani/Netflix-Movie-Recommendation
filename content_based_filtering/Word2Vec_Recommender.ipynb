{
 "cells": [
  {
   "cell_type": "markdown",
   "id": "f555ea0c",
   "metadata": {},
   "source": [
    "# 🎯 Movie Recommendation System using Word2Vec (Content-Based Filtering)\n",
    "\n",
    "This notebook builds a content-based movie recommender system using Word2Vec embeddings trained on Netflix movie metadata."
   ]
  },
  {
   "cell_type": "code",
   "execution_count": 81,
   "id": "25c9a0dd",
   "metadata": {},
   "outputs": [],
   "source": [
    "import pandas as pd\n",
    "import numpy as np\n",
    "from gensim.models import Word2Vec\n",
    "import nltk\n",
    "from nltk.tokenize import word_tokenize\n",
    "from nltk.corpus import stopwords\n",
    "import string\n",
    "import re"
   ]
  },
  {
   "cell_type": "markdown",
   "id": "bc9b9a62",
   "metadata": {},
   "source": [
    "#### Load data\n",
    "We use `netflix_titles.csv` containing movie metadata."
   ]
  },
  {
   "cell_type": "code",
   "execution_count": 84,
   "id": "304f7579",
   "metadata": {},
   "outputs": [
    {
     "data": {
      "text/html": [
       "<div>\n",
       "<style scoped>\n",
       "    .dataframe tbody tr th:only-of-type {\n",
       "        vertical-align: middle;\n",
       "    }\n",
       "\n",
       "    .dataframe tbody tr th {\n",
       "        vertical-align: top;\n",
       "    }\n",
       "\n",
       "    .dataframe thead th {\n",
       "        text-align: right;\n",
       "    }\n",
       "</style>\n",
       "<table border=\"1\" class=\"dataframe\">\n",
       "  <thead>\n",
       "    <tr style=\"text-align: right;\">\n",
       "      <th></th>\n",
       "      <th>show_id</th>\n",
       "      <th>type</th>\n",
       "      <th>title</th>\n",
       "      <th>director</th>\n",
       "      <th>cast</th>\n",
       "      <th>country</th>\n",
       "      <th>date_added</th>\n",
       "      <th>release_year</th>\n",
       "      <th>rating</th>\n",
       "      <th>duration</th>\n",
       "      <th>listed_in</th>\n",
       "      <th>description</th>\n",
       "    </tr>\n",
       "  </thead>\n",
       "  <tbody>\n",
       "    <tr>\n",
       "      <th>0</th>\n",
       "      <td>s1</td>\n",
       "      <td>Movie</td>\n",
       "      <td>Dick Johnson Is Dead</td>\n",
       "      <td>Kirsten Johnson</td>\n",
       "      <td>NaN</td>\n",
       "      <td>United States</td>\n",
       "      <td>September 25, 2021</td>\n",
       "      <td>2020</td>\n",
       "      <td>PG-13</td>\n",
       "      <td>90 min</td>\n",
       "      <td>Documentaries</td>\n",
       "      <td>As her father nears the end of his life, filmm...</td>\n",
       "    </tr>\n",
       "    <tr>\n",
       "      <th>1</th>\n",
       "      <td>s2</td>\n",
       "      <td>TV Show</td>\n",
       "      <td>Blood &amp; Water</td>\n",
       "      <td>NaN</td>\n",
       "      <td>Ama Qamata, Khosi Ngema, Gail Mabalane, Thaban...</td>\n",
       "      <td>South Africa</td>\n",
       "      <td>September 24, 2021</td>\n",
       "      <td>2021</td>\n",
       "      <td>TV-MA</td>\n",
       "      <td>2 Seasons</td>\n",
       "      <td>International TV Shows, TV Dramas, TV Mysteries</td>\n",
       "      <td>After crossing paths at a party, a Cape Town t...</td>\n",
       "    </tr>\n",
       "    <tr>\n",
       "      <th>2</th>\n",
       "      <td>s3</td>\n",
       "      <td>TV Show</td>\n",
       "      <td>Ganglands</td>\n",
       "      <td>Julien Leclercq</td>\n",
       "      <td>Sami Bouajila, Tracy Gotoas, Samuel Jouy, Nabi...</td>\n",
       "      <td>NaN</td>\n",
       "      <td>September 24, 2021</td>\n",
       "      <td>2021</td>\n",
       "      <td>TV-MA</td>\n",
       "      <td>1 Season</td>\n",
       "      <td>Crime TV Shows, International TV Shows, TV Act...</td>\n",
       "      <td>To protect his family from a powerful drug lor...</td>\n",
       "    </tr>\n",
       "  </tbody>\n",
       "</table>\n",
       "</div>"
      ],
      "text/plain": [
       "  show_id     type                 title         director  \\\n",
       "0      s1    Movie  Dick Johnson Is Dead  Kirsten Johnson   \n",
       "1      s2  TV Show         Blood & Water              NaN   \n",
       "2      s3  TV Show             Ganglands  Julien Leclercq   \n",
       "\n",
       "                                                cast        country  \\\n",
       "0                                                NaN  United States   \n",
       "1  Ama Qamata, Khosi Ngema, Gail Mabalane, Thaban...   South Africa   \n",
       "2  Sami Bouajila, Tracy Gotoas, Samuel Jouy, Nabi...            NaN   \n",
       "\n",
       "           date_added  release_year rating   duration  \\\n",
       "0  September 25, 2021          2020  PG-13     90 min   \n",
       "1  September 24, 2021          2021  TV-MA  2 Seasons   \n",
       "2  September 24, 2021          2021  TV-MA   1 Season   \n",
       "\n",
       "                                           listed_in  \\\n",
       "0                                      Documentaries   \n",
       "1    International TV Shows, TV Dramas, TV Mysteries   \n",
       "2  Crime TV Shows, International TV Shows, TV Act...   \n",
       "\n",
       "                                         description  \n",
       "0  As her father nears the end of his life, filmm...  \n",
       "1  After crossing paths at a party, a Cape Town t...  \n",
       "2  To protect his family from a powerful drug lor...  "
      ]
     },
     "execution_count": 84,
     "metadata": {},
     "output_type": "execute_result"
    }
   ],
   "source": [
    "netflix_df = pd.read_csv('../data/netflix_titles.csv')\n",
    "netflix_df.head(3)"
   ]
  },
  {
   "cell_type": "markdown",
   "id": "25cd1c78",
   "metadata": {},
   "source": [
    "#### Preprocessing"
   ]
  },
  {
   "cell_type": "code",
   "execution_count": 87,
   "id": "e02fa2c5",
   "metadata": {},
   "outputs": [],
   "source": [
    "original_titles = dict(zip(netflix_df.index, netflix_df['title']))\n",
    "\n",
    "stop_words = set(stopwords.words('english') + list(string.punctuation))\n",
    "\n",
    "for col in ['title', 'listed_in', 'description']:\n",
    "    netflix_df[col] = netflix_df[col].fillna('').astype(str).str.lower()\n",
    "    netflix_df[col] = netflix_df[col].apply(word_tokenize)\n",
    "    netflix_df[col] = netflix_df[col].apply(\n",
    "        lambda x: [word for word in x if word not in stop_words and len(word) > 2]\n",
    "    )\n",
    "    \n",
    "    if col == 'description':\n",
    "        netflix_df[col] = netflix_df[col].apply(\n",
    "            lambda x: [word.translate(str.maketrans('', '', string.punctuation)) for word in x]\n",
    "        )\n",
    "        netflix_df[col] = netflix_df[col].apply(\n",
    "            lambda x: [word for word in x if len(word) > 0]\n",
    "        )\n",
    "    \n",
    "    netflix_df[col] = netflix_df[col].apply(lambda x: list(set(x)))\n",
    "\n",
    "netflix_df['tokens'] = netflix_df.apply(\n",
    "    lambda row: row['title'] + row['listed_in'] + row['description'], \n",
    "    axis=1\n",
    ")\n",
    "\n",
    "netflix_df = netflix_df[netflix_df['tokens'].apply(len) > 0]"
   ]
  },
  {
   "cell_type": "markdown",
   "id": "23ddff0c",
   "metadata": {},
   "source": [
    "#### Word2Vec Model Training"
   ]
  },
  {
   "cell_type": "code",
   "execution_count": 89,
   "id": "56e5811c",
   "metadata": {},
   "outputs": [
    {
     "name": "stdout",
     "output_type": "stream",
     "text": [
      "Vocabulary size: 23817\n"
     ]
    }
   ],
   "source": [
    "w2v_model = Word2Vec(\n",
    "    sentences=netflix_df['tokens'], \n",
    "    vector_size=100, \n",
    "    window=5, \n",
    "    min_count=1, \n",
    "    workers=4\n",
    ")\n",
    "print(\"Vocabulary size:\", len(w2v_model.wv))"
   ]
  },
  {
   "cell_type": "markdown",
   "id": "86a0eebc",
   "metadata": {},
   "source": [
    "#### Recomendation system"
   ]
  },
  {
   "cell_type": "code",
   "execution_count": 91,
   "id": "e571d812",
   "metadata": {},
   "outputs": [],
   "source": [
    "def get_recommendations(title, df, model, orig_titles, top_n=10):\n",
    "    wv = model.wv\n",
    "    \n",
    "    title_lower = title.lower()\n",
    "    mask = df['title'].apply(lambda x: any(title_lower in t.lower() for t in x))\n",
    "    target_rows = df[mask]\n",
    "    \n",
    "    if len(target_rows) == 0:\n",
    "        print(f\"Movie '{title}' not found in dataset.\")\n",
    "        return pd.DataFrame()\n",
    "    \n",
    "    target_row = target_rows.iloc[0]\n",
    "    target_title = orig_titles.get(target_row.name, ' '.join(target_row['title']))\n",
    "    print(f\"Found movie: {target_title}\")\n",
    "    \n",
    "    target_tokens = {\n",
    "        'category': [w for w in target_row['listed_in'] if w in wv],\n",
    "        'desc': [w for w in target_row['description'] if w in wv],\n",
    "        'title': [w for w in target_row['title'] if w in wv]\n",
    "    }\n",
    "    \n",
    "    if not target_tokens['category'] or not target_tokens['desc']:\n",
    "        print(f\"Not enough data for movie '{title}'.\")\n",
    "        return pd.DataFrame()\n",
    "    \n",
    "    results = []\n",
    "    \n",
    "    for idx, row in df.iterrows():\n",
    "        if idx == target_row.name:\n",
    "            continue\n",
    "            \n",
    "        candidate_tokens = {\n",
    "            'category': [w for w in row['listed_in'] if w in wv],\n",
    "            'desc': [w for w in row['description'] if w in wv],\n",
    "            'title': [w for w in row['title'] if w in wv]\n",
    "        }\n",
    "        \n",
    "        if not candidate_tokens['category'] or not candidate_tokens['desc']:\n",
    "            continue\n",
    "            \n",
    "        try:\n",
    "            cat_score = wv.n_similarity(candidate_tokens['category'], target_tokens['category'])\n",
    "            \n",
    "            if cat_score <= 0.7:\n",
    "                continue\n",
    "                \n",
    "            desc_score = wv.n_similarity(candidate_tokens['desc'], target_tokens['desc'])\n",
    "            \n",
    "            title_score = 0\n",
    "            if candidate_tokens['title'] and target_tokens['title']:\n",
    "                try:\n",
    "                    title_score = wv.n_similarity(candidate_tokens['title'], target_tokens['title']) / 2\n",
    "                except:\n",
    "                    pass\n",
    "                    \n",
    "            movie_title = orig_titles.get(idx, ' '.join(row['title']))\n",
    "            \n",
    "            results.append([\n",
    "                movie_title, target_title, title_score, cat_score, desc_score\n",
    "            ])\n",
    "        except:\n",
    "            continue\n",
    "    \n",
    "    if not results:\n",
    "        print(f\"No similar titles found for '{title}'.\")\n",
    "        return pd.DataFrame()\n",
    "        \n",
    "    rec_df = pd.DataFrame(\n",
    "        results, \n",
    "        columns=[\"recommendation\", \"title\", \"score_title\", \"score_category\", \"score_description\"]\n",
    "    )\n",
    "    \n",
    "    rec_df[\"final_score\"] = rec_df[\"score_title\"] + rec_df[\"score_category\"] + rec_df[\"score_description\"]\n",
    "    \n",
    "    return rec_df.sort_values(\n",
    "        by=[\"final_score\", \"score_category\", \"score_description\", \"score_title\"],\n",
    "        ascending=False\n",
    "    ).head(top_n)"
   ]
  },
  {
   "cell_type": "markdown",
   "id": "88f4016d",
   "metadata": {},
   "source": [
    "#### Test"
   ]
  },
  {
   "cell_type": "code",
   "execution_count": 94,
   "id": "84ba889b",
   "metadata": {},
   "outputs": [
    {
     "name": "stdout",
     "output_type": "stream",
     "text": [
      "Found movie: The Twilight Saga: Breaking Dawn: Part 1\n",
      "\n",
      "Movies similar to 'Twilight':\n",
      "- The Jane Austen Book Club (Score: 2.50)\n",
      "- Dear John (Score: 2.50)\n",
      "- In Line (Score: 2.50)\n",
      "- The Desert Bride (Score: 2.50)\n",
      "- Up North (Score: 2.50)\n"
     ]
    }
   ],
   "source": [
    "sample_movie = 'Twilight'\n",
    "recommendations = get_recommendations(sample_movie, netflix_df, w2v_model, original_titles, top_n=5)\n",
    "\n",
    "print(f\"\\nMovies similar to '{sample_movie}':\")\n",
    "if not recommendations.empty:\n",
    "    for i, row in recommendations.iterrows():\n",
    "        print(f\"- {row['recommendation']} (Score: {row['final_score']:.2f})\")"
   ]
  },
  {
   "cell_type": "code",
   "execution_count": null,
   "id": "6b7cf252-35a7-4501-843a-0c5ba1e580f2",
   "metadata": {},
   "outputs": [],
   "source": []
  }
 ],
 "metadata": {
  "kernelspec": {
   "display_name": "Python [conda env:base] *",
   "language": "python",
   "name": "conda-base-py"
  },
  "language_info": {
   "codemirror_mode": {
    "name": "ipython",
    "version": 3
   },
   "file_extension": ".py",
   "mimetype": "text/x-python",
   "name": "python",
   "nbconvert_exporter": "python",
   "pygments_lexer": "ipython3",
   "version": "3.12.3"
  }
 },
 "nbformat": 4,
 "nbformat_minor": 5
}
