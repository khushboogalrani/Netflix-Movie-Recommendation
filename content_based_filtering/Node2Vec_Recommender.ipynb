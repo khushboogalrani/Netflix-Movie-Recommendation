{
 "cells": [
  {
   "cell_type": "markdown",
   "id": "4dd6cf5e",
   "metadata": {},
   "source": [
    "# 🎯 Movie Recommendation using Node2Vec Embeddings\n",
    "\n",
    "This notebook builds a content-based movie recommendation system using Node2Vec embeddings generated from a graph of Netflix metadata (actors, directors, genres)."
   ]
  },
  {
   "cell_type": "code",
   "execution_count": 1,
   "id": "8d8fdf04",
   "metadata": {},
   "outputs": [],
   "source": [
    "import pandas as pd\n",
    "import networkx as nx\n",
    "from node2vec import Node2Vec"
   ]
  },
  {
   "cell_type": "markdown",
   "id": "25fec13f",
   "metadata": {},
   "source": [
    "#### Load Data and Build Graph"
   ]
  },
  {
   "cell_type": "code",
   "execution_count": 3,
   "id": "f22666b1",
   "metadata": {},
   "outputs": [],
   "source": [
    "# Load Netflix dataset\n",
    "netflix_df = pd.read_csv('../data/netflix_titles.csv')\n",
    "\n",
    "# Fill NaNs with blanks\n",
    "netflix_df.fillna('', inplace=True)\n",
    "\n",
    "# Sample columns we'll use: title, cast, director, listed_in\n",
    "netflix_df['combined'] = netflix_df[['title', 'cast', 'director', 'listed_in']].agg(' '.join, axis=1)\n",
    "\n",
    "# Create an undirected graph\n",
    "G = nx.Graph()\n",
    "\n",
    "# Add nodes and edges: link title to each metadata element (e.g., actor, director, genre)\n",
    "for _, row in netflix_df.iterrows():\n",
    "    movie = row['title']\n",
    "    attributes = set(row['combined'].split(', '))  # use comma split for metadata\n",
    "    for attr in attributes:\n",
    "        if attr.strip():\n",
    "            G.add_node(attr)\n",
    "            G.add_edge(movie, attr)\n"
   ]
  },
  {
   "cell_type": "markdown",
   "id": "cd35d8d5",
   "metadata": {},
   "source": [
    "#### Training Node2Vec Model on the Movie Graph"
   ]
  },
  {
   "cell_type": "code",
   "execution_count": 8,
   "id": "05ce4f4e-26fc-4418-b0a7-6ddf8c2a3bed",
   "metadata": {},
   "outputs": [
    {
     "name": "stdout",
     "output_type": "stream",
     "text": [
      "Graph has 55479 nodes and 76411 edges.\n"
     ]
    }
   ],
   "source": [
    "num_nodes = G.number_of_nodes()\n",
    "num_edges = G.number_of_edges()\n",
    "\n",
    "print(f\"Graph has {num_nodes} nodes and {num_edges} edges.\")"
   ]
  },
  {
   "cell_type": "code",
   "execution_count": 10,
   "id": "7a790feb-5ae4-49f5-9517-5dcc3fb40af2",
   "metadata": {},
   "outputs": [],
   "source": [
    "node2vec_model = Node2Vec(\n",
    "    G,\n",
    "    dimensions=128,\n",
    "    walk_length=10,\n",
    "    num_walks=5,\n",
    "    workers=4,\n",
    "    quiet=True\n",
    ")\n",
    "\n",
    "n2v = node2vec_model.fit(window=5, min_count=1, batch_words=4)"
   ]
  },
  {
   "cell_type": "code",
   "execution_count": 11,
   "id": "76d55210",
   "metadata": {},
   "outputs": [],
   "source": [
    "# Fit model\n",
    "n2v = node2vec_model.fit(window=5, min_count=1, batch_words=4)"
   ]
  },
  {
   "cell_type": "markdown",
   "id": "7d31a362",
   "metadata": {},
   "source": [
    "#### Recomendation system"
   ]
  },
  {
   "cell_type": "code",
   "execution_count": 44,
   "id": "5212e0aa",
   "metadata": {},
   "outputs": [],
   "source": [
    "def recommend_movies_node2vec(movie_title, model, graph, top_n=10):\n",
    "    if movie_title not in graph:\n",
    "        print(\"Movie not found in the graph.\")\n",
    "        return []\n",
    "    # Get similar nodes and filter to movies\n",
    "    similar_nodes = model.wv.most_similar(movie_title, topn=500)\n",
    "    similar_movies = [node for node, score in similar_nodes if node in graph and node in list(netflix_df['title'])]\n",
    "    # Remove original movie and return top_n\n",
    "    recommendations = list(set(similar_movies) - {movie_title})\n",
    "    return recommendations[:top_n]\n"
   ]
  },
  {
   "cell_type": "markdown",
   "id": "a656a351",
   "metadata": {},
   "source": [
    "#### Test"
   ]
  },
  {
   "cell_type": "code",
   "execution_count": 48,
   "id": "17b4fa1b",
   "metadata": {},
   "outputs": [
    {
     "name": "stdout",
     "output_type": "stream",
     "text": [
      "Movies similar to 'Twilight':\n",
      "- Samson\n",
      "- The Twilight Saga: Eclipse\n",
      "- Can't Hardly Wait\n",
      "- Adrift\n",
      "- The Twilight Saga: Breaking Dawn: Part 1\n",
      "- Kristy\n",
      "- 5 to 7\n",
      "- The Lost Husband\n",
      "- Holiday in the Wild\n",
      "- The F**k-It List\n"
     ]
    }
   ],
   "source": [
    "sample_movie = 'Twilight'\n",
    "recommended = recommend_movies_node2vec(sample_movie, n2v, G)\n",
    "\n",
    "print(f\"Movies similar to '{sample_movie}':\")\n",
    "for title in recommended:\n",
    "    print(\"-\", title)\n"
   ]
  },
  {
   "cell_type": "code",
   "execution_count": null,
   "id": "79e9394d-4e33-4ce9-80f6-6d86385c550c",
   "metadata": {},
   "outputs": [],
   "source": []
  }
 ],
 "metadata": {
  "kernelspec": {
   "display_name": "Python [conda env:base] *",
   "language": "python",
   "name": "conda-base-py"
  },
  "language_info": {
   "codemirror_mode": {
    "name": "ipython",
    "version": 3
   },
   "file_extension": ".py",
   "mimetype": "text/x-python",
   "name": "python",
   "nbconvert_exporter": "python",
   "pygments_lexer": "ipython3",
   "version": "3.12.3"
  }
 },
 "nbformat": 4,
 "nbformat_minor": 5
}
