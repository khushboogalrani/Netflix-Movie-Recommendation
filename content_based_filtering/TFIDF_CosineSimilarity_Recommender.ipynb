{
 "cells": [
  {
   "cell_type": "markdown",
   "id": "1689ad62",
   "metadata": {},
   "source": [
    "# 🎯 Movie Recommendation System using TF-IDF and Cosine Similarity\n",
    "\n",
    "This notebook uses TF-IDF features extracted from movie metadata (title + description) to recommend similar movies."
   ]
  },
  {
   "cell_type": "code",
   "execution_count": 20,
   "id": "f61419d0",
   "metadata": {},
   "outputs": [],
   "source": [
    "import pandas as pd\n",
    "import numpy as np\n",
    "from sklearn.feature_extraction.text import TfidfVectorizer\n",
    "from sklearn.metrics.pairwise import cosine_similarity\n",
    "import re"
   ]
  },
  {
   "cell_type": "markdown",
   "id": "06f65236",
   "metadata": {},
   "source": [
    "#### Load Data"
   ]
  },
  {
   "cell_type": "code",
   "execution_count": 41,
   "id": "66057a17",
   "metadata": {},
   "outputs": [],
   "source": [
    "df = pd.read_csv('../data/netflix_titles.csv')\n",
    "df.fillna('', inplace=True)"
   ]
  },
  {
   "cell_type": "markdown",
   "id": "2311ac2b-a0c6-4615-b16d-236c9d384779",
   "metadata": {},
   "source": [
    "#### Preprocessing"
   ]
  },
  {
   "cell_type": "code",
   "execution_count": 44,
   "id": "4a318bad-13b4-4897-9d7d-91b8815a6597",
   "metadata": {},
   "outputs": [],
   "source": [
    "features = ['title', 'director', 'cast', 'listed_in', 'description']\n",
    "df_features = df[features].copy()\n",
    "\n",
    "def clean_text(text):\n",
    "    if isinstance(text, str):\n",
    "        # Convert to lowercase and remove special characters\n",
    "        text = text.lower().strip()\n",
    "        text = re.sub(r'[^\\w\\s]', ' ', text)\n",
    "        text = re.sub(r'\\s+', ' ', text)\n",
    "    return text\n",
    "\n",
    "for feature in features:\n",
    "    df_features[feature] = df_features[feature].apply(clean_text)\n",
    "\n",
    "df_features['feature_soup'] = (\n",
    "    df_features['title'] + ' ' + \n",
    "    df_features['director'] + ' ' + \n",
    "    df_features['cast'] + ' ' + \n",
    "    df_features['listed_in'] + ' ' + \n",
    "    df_features['description']\n",
    ")"
   ]
  },
  {
   "cell_type": "markdown",
   "id": "be958fc4",
   "metadata": {},
   "source": [
    "#### TF-IDF Vectorization"
   ]
  },
  {
   "cell_type": "code",
   "execution_count": 47,
   "id": "10665c37",
   "metadata": {},
   "outputs": [
    {
     "name": "stdout",
     "output_type": "stream",
     "text": [
      "TF-IDF Matrix Shape: (8807, 51561)\n"
     ]
    }
   ],
   "source": [
    "tfidf = TfidfVectorizer(\n",
    "    stop_words='english',    # Remove English stop words\n",
    "    min_df=2,                # Minimum document frequency\n",
    "    max_df=0.85,             # Maximum document frequency\n",
    "    ngram_range=(1, 2)       # Consider unigrams and bigrams\n",
    ")\n",
    "\n",
    "tfidf_matrix = tfidf.fit_transform(df_features['feature_soup'])\n",
    "print(f\"TF-IDF Matrix Shape: {tfidf_matrix.shape}\")"
   ]
  },
  {
   "cell_type": "markdown",
   "id": "b13b834a",
   "metadata": {},
   "source": [
    "#### Cosine Similarity Matrix"
   ]
  },
  {
   "cell_type": "code",
   "execution_count": 49,
   "id": "5f79ac4d",
   "metadata": {},
   "outputs": [
    {
     "name": "stdout",
     "output_type": "stream",
     "text": [
      "Similarity Matrix Shape: (8807, 8807)\n"
     ]
    }
   ],
   "source": [
    "similarity_matrix = cosine_similarity(tfidf_matrix, tfidf_matrix)\n",
    "print(f\"Similarity Matrix Shape: {similarity_matrix.shape}\")\n",
    "\n",
    "title_to_index = pd.Series(df.index, index=df['title'])"
   ]
  },
  {
   "cell_type": "markdown",
   "id": "31533234",
   "metadata": {},
   "source": [
    "#### Recommendation Function"
   ]
  },
  {
   "cell_type": "code",
   "execution_count": 51,
   "id": "4250a2b6",
   "metadata": {},
   "outputs": [],
   "source": [
    "def get_movie_recommendations(title, top_n=10):\n",
    "    \"\"\"Get movie recommendations based on similarity\"\"\"\n",
    "    title_matches = df[df['title'].str.lower() == title.lower()]\n",
    "    if title_matches.empty:\n",
    "        print(f\"Movie '{title}' not found. Trying partial matches...\")\n",
    "        \n",
    "        title_lower = title.lower()\n",
    "        closest_matches = df[df['title'].str.lower().str.contains(title_lower, regex=False)]\n",
    "        \n",
    "        if closest_matches.empty:\n",
    "            print(f\"No matches found for '{title}'\")\n",
    "            return pd.DataFrame()\n",
    "        else:\n",
    "            match_title = closest_matches.iloc[0]['title']\n",
    "            print(f\"Using closest match: '{match_title}'\")\n",
    "            idx = closest_matches.index[0]\n",
    "    else:\n",
    "        idx = title_matches.index[0]\n",
    "    sim_scores = list(enumerate(similarity_matrix[idx]))\n",
    "    sim_scores = sorted(sim_scores, key=lambda x: x[1], reverse=True)\n",
    "    sim_scores = sim_scores[1:top_n+1]\n",
    "    movie_indices = [i[0] for i in sim_scores]\n",
    "    similarity_values = [i[1] for i in sim_scores]\n",
    "    recommendations = pd.DataFrame({\n",
    "        'title': df['title'].iloc[movie_indices],\n",
    "        'type': df['type'].iloc[movie_indices],\n",
    "        'director': df['director'].iloc[movie_indices],\n",
    "        'listed_in': df['listed_in'].iloc[movie_indices],\n",
    "        'similarity_score': similarity_values\n",
    "    })\n",
    "    \n",
    "    return recommendations"
   ]
  },
  {
   "cell_type": "markdown",
   "id": "b874b5bc",
   "metadata": {},
   "source": [
    "#### Test"
   ]
  },
  {
   "cell_type": "code",
   "execution_count": 54,
   "id": "282aa337-b84c-46b5-b81a-2ec666e894f2",
   "metadata": {},
   "outputs": [
    {
     "name": "stdout",
     "output_type": "stream",
     "text": [
      "\n",
      "Movies similar to 'Twilight':\n",
      "1. The Twilight Saga: Breaking Dawn: Part 1 (Movie) - Similarity: 0.59\n",
      "   Genres: Dramas, Romantic Movies\n",
      "   Director: Bill Condon\n",
      "\n",
      "2. The Twilight Saga: Eclipse (Movie) - Similarity: 0.59\n",
      "   Genres: Dramas, Romantic Movies\n",
      "   Director: David Slade\n",
      "\n",
      "3. The Twilight Saga: Breaking Dawn: Part 2 (Movie) - Similarity: 0.58\n",
      "   Genres: Dramas, Romantic Movies\n",
      "   Director: Bill Condon\n",
      "\n",
      "4. The Twilight Saga: New Moon (Movie) - Similarity: 0.58\n",
      "   Genres: Dramas, Romantic Movies\n",
      "   Director: Chris Weitz\n",
      "\n",
      "5. The Vanished (Movie) - Similarity: 0.11\n",
      "   Genres: Thrillers\n",
      "   Director: Peter Facinelli\n",
      "\n",
      "6. Burlesque (Movie) - Similarity: 0.10\n",
      "   Genres: Dramas, Romantic Movies\n",
      "   Director: Steve Antin\n",
      "\n",
      "7. The Adventures of Sharkboy and Lavagirl (Movie) - Similarity: 0.10\n",
      "   Genres: Children & Family Movies\n",
      "   Director: Robert Rodriguez\n",
      "\n",
      "8. Samson (Movie) - Similarity: 0.10\n",
      "   Genres: Action & Adventure, Dramas, Faith & Spirituality\n",
      "   Director: Bruce MacDonald, Gabriel Sabloff\n",
      "\n",
      "9. Remember Me (Movie) - Similarity: 0.09\n",
      "   Genres: Dramas, Romantic Movies\n",
      "   Director: Allen Coulter\n",
      "\n",
      "10. Never Back Down (Movie) - Similarity: 0.09\n",
      "   Genres: Action & Adventure, Dramas, Sports Movies\n",
      "   Director: Jeff Wadlow\n",
      "\n"
     ]
    }
   ],
   "source": [
    "movie_title = \"Twilight\"\n",
    "recommendations = get_movie_recommendations(movie_title)\n",
    "\n",
    "\n",
    "print(f\"\\nMovies similar to '{movie_title}':\")\n",
    "for i, (idx, row) in enumerate(recommendations.iterrows(), 1):\n",
    "    print(f\"{i}. {row['title']} ({row['type']}) - Similarity: {row['similarity_score']:.2f}\")\n",
    "    print(f\"   Genres: {row['listed_in']}\")\n",
    "    if row['director']:\n",
    "        print(f\"   Director: {row['director']}\")\n",
    "    print()"
   ]
  }
 ],
 "metadata": {
  "kernelspec": {
   "display_name": "Python [conda env:base] *",
   "language": "python",
   "name": "conda-base-py"
  },
  "language_info": {
   "codemirror_mode": {
    "name": "ipython",
    "version": 3
   },
   "file_extension": ".py",
   "mimetype": "text/x-python",
   "name": "python",
   "nbconvert_exporter": "python",
   "pygments_lexer": "ipython3",
   "version": "3.12.3"
  }
 },
 "nbformat": 4,
 "nbformat_minor": 5
}
