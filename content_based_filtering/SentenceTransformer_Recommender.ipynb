{
 "cells": [
  {
   "cell_type": "markdown",
   "id": "82715a2f",
   "metadata": {},
   "source": [
    "# 🎯 Movie Recommendation using Sentence Transformers\n",
    "\n",
    "This notebook uses semantic embeddings (Sentence Transformers) to recommend similar movies based on metadata such as title and description."
   ]
  },
  {
   "cell_type": "code",
   "execution_count": 1,
   "id": "dd9a4cce",
   "metadata": {},
   "outputs": [
    {
     "name": "stdout",
     "output_type": "stream",
     "text": [
      "WARNING:tensorflow:From C:\\Users\\galra\\AppData\\Roaming\\Python\\Python312\\site-packages\\tf_keras\\src\\losses.py:2976: The name tf.losses.sparse_softmax_cross_entropy is deprecated. Please use tf.compat.v1.losses.sparse_softmax_cross_entropy instead.\n",
      "\n"
     ]
    }
   ],
   "source": [
    "import pandas as pd\n",
    "import numpy as np\n",
    "import torch\n",
    "from sentence_transformers import SentenceTransformer, util\n",
    "import pickle\n",
    "import os"
   ]
  },
  {
   "cell_type": "markdown",
   "id": "e5174c81",
   "metadata": {},
   "source": [
    "#### Load Data"
   ]
  },
  {
   "cell_type": "code",
   "execution_count": 8,
   "id": "0ffa91a6",
   "metadata": {},
   "outputs": [
    {
     "name": "stdout",
     "output_type": "stream",
     "text": [
      "Loaded 8807 titles from Netflix dataset\n"
     ]
    }
   ],
   "source": [
    "sent_df = pd.read_csv('../data/netflix_titles.csv')\n",
    "print(f\"Loaded {len(sent_df)} titles from Netflix dataset\")"
   ]
  },
  {
   "cell_type": "markdown",
   "id": "d57e5638-cb41-4670-956c-a8acbc567ae0",
   "metadata": {},
   "source": [
    "#### Initialize Transformer"
   ]
  },
  {
   "cell_type": "code",
   "execution_count": 11,
   "id": "535ed358-fefc-4f10-912b-e00645a296fc",
   "metadata": {},
   "outputs": [
    {
     "data": {
      "application/vnd.jupyter.widget-view+json": {
       "model_id": "0ab2a5c14196416282aedde0073141a1",
       "version_major": 2,
       "version_minor": 0
      },
      "text/plain": [
       "modules.json:   0%|          | 0.00/229 [00:00<?, ?B/s]"
      ]
     },
     "metadata": {},
     "output_type": "display_data"
    },
    {
     "name": "stderr",
     "output_type": "stream",
     "text": [
      "C:\\Users\\galra\\anaconda3\\Lib\\site-packages\\huggingface_hub\\file_download.py:142: UserWarning: `huggingface_hub` cache-system uses symlinks by default to efficiently store duplicated files but your machine does not support them in C:\\Users\\galra\\.cache\\huggingface\\hub\\models--sentence-transformers--paraphrase-distilroberta-base-v1. Caching files will still work but in a degraded version that might require more space on your disk. This warning can be disabled by setting the `HF_HUB_DISABLE_SYMLINKS_WARNING` environment variable. For more details, see https://huggingface.co/docs/huggingface_hub/how-to-cache#limitations.\n",
      "To support symlinks on Windows, you either need to activate Developer Mode or to run Python as an administrator. In order to activate developer mode, see this article: https://docs.microsoft.com/en-us/windows/apps/get-started/enable-your-device-for-development\n",
      "  warnings.warn(message)\n"
     ]
    },
    {
     "data": {
      "application/vnd.jupyter.widget-view+json": {
       "model_id": "c524bf0f98ad45ce862228432ec12b23",
       "version_major": 2,
       "version_minor": 0
      },
      "text/plain": [
       "config_sentence_transformers.json:   0%|          | 0.00/122 [00:00<?, ?B/s]"
      ]
     },
     "metadata": {},
     "output_type": "display_data"
    },
    {
     "data": {
      "application/vnd.jupyter.widget-view+json": {
       "model_id": "5be133c2e9964e90b51a4b09ee3c989a",
       "version_major": 2,
       "version_minor": 0
      },
      "text/plain": [
       "README.md:   0%|          | 0.00/3.55k [00:00<?, ?B/s]"
      ]
     },
     "metadata": {},
     "output_type": "display_data"
    },
    {
     "data": {
      "application/vnd.jupyter.widget-view+json": {
       "model_id": "d7fe7fba81ed4134b03ea7bc2cbc2dcc",
       "version_major": 2,
       "version_minor": 0
      },
      "text/plain": [
       "sentence_bert_config.json:   0%|          | 0.00/53.0 [00:00<?, ?B/s]"
      ]
     },
     "metadata": {},
     "output_type": "display_data"
    },
    {
     "data": {
      "application/vnd.jupyter.widget-view+json": {
       "model_id": "d7b58aae8f7e4f4aab6bf0d52d140441",
       "version_major": 2,
       "version_minor": 0
      },
      "text/plain": [
       "config.json:   0%|          | 0.00/718 [00:00<?, ?B/s]"
      ]
     },
     "metadata": {},
     "output_type": "display_data"
    },
    {
     "data": {
      "application/vnd.jupyter.widget-view+json": {
       "model_id": "eff458cc2725465299d3aad275a19ec9",
       "version_major": 2,
       "version_minor": 0
      },
      "text/plain": [
       "model.safetensors:   0%|          | 0.00/328M [00:00<?, ?B/s]"
      ]
     },
     "metadata": {},
     "output_type": "display_data"
    },
    {
     "data": {
      "application/vnd.jupyter.widget-view+json": {
       "model_id": "ca3ce674f91f492b9e341b8d4191ed23",
       "version_major": 2,
       "version_minor": 0
      },
      "text/plain": [
       "tokenizer_config.json:   0%|          | 0.00/1.32k [00:00<?, ?B/s]"
      ]
     },
     "metadata": {},
     "output_type": "display_data"
    },
    {
     "data": {
      "application/vnd.jupyter.widget-view+json": {
       "model_id": "83fc8a1f92584a9d986b77f6e6904da2",
       "version_major": 2,
       "version_minor": 0
      },
      "text/plain": [
       "vocab.json:   0%|          | 0.00/798k [00:00<?, ?B/s]"
      ]
     },
     "metadata": {},
     "output_type": "display_data"
    },
    {
     "data": {
      "application/vnd.jupyter.widget-view+json": {
       "model_id": "bec392b15b844eb4803511cbf86fe7e2",
       "version_major": 2,
       "version_minor": 0
      },
      "text/plain": [
       "merges.txt:   0%|          | 0.00/456k [00:00<?, ?B/s]"
      ]
     },
     "metadata": {},
     "output_type": "display_data"
    },
    {
     "data": {
      "application/vnd.jupyter.widget-view+json": {
       "model_id": "098b545f096345398fde97d472e88431",
       "version_major": 2,
       "version_minor": 0
      },
      "text/plain": [
       "tokenizer.json:   0%|          | 0.00/1.36M [00:00<?, ?B/s]"
      ]
     },
     "metadata": {},
     "output_type": "display_data"
    },
    {
     "data": {
      "application/vnd.jupyter.widget-view+json": {
       "model_id": "587cb759ae5443759908f3110dd5f8e6",
       "version_major": 2,
       "version_minor": 0
      },
      "text/plain": [
       "special_tokens_map.json:   0%|          | 0.00/239 [00:00<?, ?B/s]"
      ]
     },
     "metadata": {},
     "output_type": "display_data"
    },
    {
     "data": {
      "application/vnd.jupyter.widget-view+json": {
       "model_id": "6e1eb62c1dfd48aca2223b14354cbe23",
       "version_major": 2,
       "version_minor": 0
      },
      "text/plain": [
       "config.json:   0%|          | 0.00/190 [00:00<?, ?B/s]"
      ]
     },
     "metadata": {},
     "output_type": "display_data"
    }
   ],
   "source": [
    "model = SentenceTransformer(\"paraphrase-distilroberta-base-v1\")"
   ]
  },
  {
   "cell_type": "markdown",
   "id": "0f5d2afa-56da-43c2-afe9-8a93745a7084",
   "metadata": {},
   "source": [
    "#### Embedings"
   ]
  },
  {
   "cell_type": "code",
   "execution_count": 13,
   "id": "5b867e4c-a095-4c8f-ab2c-b1f6e8ffb1f1",
   "metadata": {},
   "outputs": [
    {
     "name": "stdout",
     "output_type": "stream",
     "text": [
      "Computing embeddings...\n"
     ]
    },
    {
     "data": {
      "application/vnd.jupyter.widget-view+json": {
       "model_id": "8d8477a6696640c588c0cac4ec1d4f76",
       "version_major": 2,
       "version_minor": 0
      },
      "text/plain": [
       "Batches:   0%|          | 0/276 [00:00<?, ?it/s]"
      ]
     },
     "metadata": {},
     "output_type": "display_data"
    }
   ],
   "source": [
    "def get_embeddings():\n",
    "    cache_file = \"netflix_embeddings.pkl\"\n",
    "    if os.path.exists(cache_file):\n",
    "        with open(cache_file, 'rb') as f:\n",
    "            return pickle.load(f)\n",
    "    descriptions = sent_df[\"description\"].fillna(\"\").tolist()\n",
    "    print(\"Computing embeddings...\")\n",
    "    embeddings = model.encode(descriptions, batch_size=32, show_progress_bar=True)\n",
    "    with open(cache_file, 'wb') as f:\n",
    "        pickle.dump(embeddings, f)\n",
    "    return embeddings\n",
    "des_embeddings = get_embeddings()\n",
    "\n",
    "des_embeddings_np = np.array(des_embeddings)"
   ]
  },
  {
   "cell_type": "markdown",
   "id": "bc4fa641-94c3-4623-9883-c46030aa73bc",
   "metadata": {},
   "source": [
    "#### Recomendations"
   ]
  },
  {
   "cell_type": "code",
   "execution_count": 15,
   "id": "30b933ba-24dd-42e6-b43a-4ccac8a69c27",
   "metadata": {},
   "outputs": [],
   "source": [
    "#description\n",
    "def recommend(query, top_n=10):\n",
    "    query_embedded = model.encode(query)\n",
    "    query_tensor = torch.tensor(query_embedded)\n",
    "    embeddings_tensor = torch.tensor(des_embeddings_np)\n",
    "    cosine_scores = util.pytorch_cos_sim(query_tensor, embeddings_tensor)\n",
    "    \n",
    "    top_matches = torch.argsort(cosine_scores, dim=-1, descending=True).tolist()[0][:top_n]\n",
    "    return top_matches"
   ]
  },
  {
   "cell_type": "code",
   "execution_count": 16,
   "id": "d2e7fd24-57f8-469b-9a63-98f6893b036e",
   "metadata": {},
   "outputs": [],
   "source": [
    "def get_recommendations_by_title(title, top_n=10):\n",
    "    title_matches = sent_df[sent_df[\"title\"] == title]\n",
    "    \n",
    "    if len(title_matches) == 0:\n",
    "        print(f\"Title '{title}' not found\")\n",
    "        return []\n",
    "    query_show_des = title_matches[\"description\"].iloc[0]\n",
    "    \n",
    "    if pd.isna(query_show_des):\n",
    "        print(f\"No description for '{title}'\")\n",
    "        return []\n",
    "    matches = recommend(query_show_des, top_n)\n",
    "    \n",
    "    results = []\n",
    "    for idx in matches:\n",
    "        show = sent_df.iloc[idx]\n",
    "        # Skip the original title\n",
    "        if show[\"title\"] == title:\n",
    "            continue\n",
    "        results.append(show[\"title\"])\n",
    "    \n",
    "    return results[:top_n]"
   ]
  },
  {
   "cell_type": "markdown",
   "id": "7cab9407-c37d-4711-83a2-6a36c5280410",
   "metadata": {},
   "source": [
    "#### Test"
   ]
  },
  {
   "cell_type": "code",
   "execution_count": 18,
   "id": "f1c85e29-fffa-4dc8-a29f-e14edaed4814",
   "metadata": {},
   "outputs": [
    {
     "name": "stdout",
     "output_type": "stream",
     "text": [
      "\n",
      "Shows similar to 'Twilight':\n",
      "1. The Twilight Saga: New Moon\n",
      "2. My Babysitter's a Vampire: The Movie\n",
      "3. The Order\n",
      "4. Greenhouse Academy\n",
      "5. Miss in Kiss\n",
      "6. The Twilight Saga: Breaking Dawn: Part 1\n",
      "7. The Roommate\n",
      "8. Kuch Kuch Hota Hai\n",
      "9. The Twilight Saga: Eclipse\n"
     ]
    }
   ],
   "source": [
    "title = \"Twilight\"\n",
    "print(f\"\\nShows similar to '{title}':\")\n",
    "similar_shows = get_recommendations_by_title(title)\n",
    "for i, show in enumerate(similar_shows, 1):\n",
    "    print(f\"{i}. {show}\")"
   ]
  },
  {
   "cell_type": "code",
   "execution_count": 19,
   "id": "4f3ab5ef-a6a0-4dd6-8804-6c3c34dd2661",
   "metadata": {},
   "outputs": [
    {
     "name": "stdout",
     "output_type": "stream",
     "text": [
      "\n",
      "Shows matching query: 'A family comedy with heartwarming moments':\n",
      "1. Total Drama\n",
      "2. The Upshaws\n",
      "3. Dad Stop Embarrassing Me - The Afterparty\n",
      "4. A 3 Minute Hug\n",
      "5. Shameless (U.S.)\n",
      "6. Jim Gaffigan: Cinco\n",
      "7. Asperger's Are Us\n",
      "8. Everything Will Be Fine\n",
      "9. Almost Love\n",
      "10. The Sound of Your Heart\n"
     ]
    }
   ],
   "source": [
    "def get_recommendations_by_text(query_text, top_n=10):\n",
    "    matches = recommend(query_text, top_n)\n",
    "    \n",
    "    return [sent_df.iloc[idx][\"title\"] for idx in matches]\n",
    "\n",
    "\n",
    "custom_query = \"A family comedy with heartwarming moments\"\n",
    "print(f\"\\nShows matching query: '{custom_query}':\")\n",
    "\n",
    "matches = get_recommendations_by_text(custom_query)\n",
    "\n",
    "for i, show in enumerate(matches, 1):\n",
    "    print(f\"{i}. {show}\")"
   ]
  }
 ],
 "metadata": {
  "kernelspec": {
   "display_name": "Python [conda env:base] *",
   "language": "python",
   "name": "conda-base-py"
  },
  "language_info": {
   "codemirror_mode": {
    "name": "ipython",
    "version": 3
   },
   "file_extension": ".py",
   "mimetype": "text/x-python",
   "name": "python",
   "nbconvert_exporter": "python",
   "pygments_lexer": "ipython3",
   "version": "3.12.3"
  }
 },
 "nbformat": 4,
 "nbformat_minor": 5
}
