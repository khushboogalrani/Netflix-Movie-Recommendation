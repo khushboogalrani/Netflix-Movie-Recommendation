{
 "cells": [
  {
   "cell_type": "markdown",
   "id": "d630476d",
   "metadata": {},
   "source": [
    "# 📄 Prepare Netflix Prize Data\n",
    "This notebook processes the raw Netflix Prize competition data files and creates cleaned datasets for recommendation modeling."
   ]
  },
  {
   "cell_type": "code",
   "execution_count": 1,
   "id": "3f8e68ef",
   "metadata": {},
   "outputs": [],
   "source": [
    "import pandas as pd\n",
    "import os\n",
    "data_folder = \"data/\""
   ]
  },
  {
   "cell_type": "markdown",
   "id": "d2ee2807",
   "metadata": {},
   "source": [
    "## Step 1: Process Netflix Prize Raw Files (combined_data_*.txt)"
   ]
  },
  {
   "cell_type": "code",
   "execution_count": 5,
   "id": "a9ce442d",
   "metadata": {},
   "outputs": [
    {
     "name": "stdout",
     "output_type": "stream",
     "text": [
      "Ratings dataset shape: (100480507, 4)\n",
      "Saved Netflix-Prize-Dataset.csv\n"
     ]
    }
   ],
   "source": [
    "# Folder where raw combined_data files are stored\n",
    "# List of raw files\n",
    "raw_files = ['combined_data_1.txt', 'combined_data_2.txt', 'combined_data_3.txt', 'combined_data_4.txt']\n",
    "\n",
    "# Initialize a list to store all ratings\n",
    "all_ratings = []\n",
    "\n",
    "# Read and process each file\n",
    "for file_name in raw_files:\n",
    "    file_path = os.path.join(data_folder, file_name)\n",
    "    with open(file_path, 'r') as file:\n",
    "        movie_id = None\n",
    "        for line in file:\n",
    "            line = line.strip()\n",
    "            if line.endswith(':'):\n",
    "                movie_id = int(line[:-1])  # Capture Movie ID\n",
    "            else:\n",
    "                customer_id, rating, date = line.split(',')\n",
    "                all_ratings.append((int(customer_id), int(movie_id), int(rating), date))\n",
    "\n",
    "# Create DataFrame\n",
    "ratings_df = pd.DataFrame(all_ratings, columns=['Cust_Id', 'Movie_Id', 'Rating', 'Date'])\n",
    "print(\"Ratings dataset shape:\", ratings_df.shape)\n",
    "\n",
    "# Save as CSV\n",
    "ratings_df.to_csv(os.path.join(data_folder, 'Netflix-Prize-Dataset.csv'), index=False)\n",
    "print(\"Saved Netflix-Prize-Dataset.csv\")\n"
   ]
  },
  {
   "cell_type": "markdown",
   "id": "fac89a3e",
   "metadata": {},
   "source": [
    "## Step 2: Filter Ratings Above 4"
   ]
  },
  {
   "cell_type": "code",
   "execution_count": 7,
   "id": "c0c687ad",
   "metadata": {},
   "outputs": [
    {
     "name": "stdout",
     "output_type": "stream",
     "text": [
      "Saved Above-4-Rating.csv\n"
     ]
    }
   ],
   "source": [
    "# Filter ratings >= 4\n",
    "above_4_df = ratings_df[ratings_df['Rating'] >= 4]\n",
    "\n",
    "# Save\n",
    "above_4_df.to_csv(os.path.join(data_folder, 'Above-4-Rating.csv'), index=False)\n",
    "print(\"Saved Above-4-Rating.csv\")\n"
   ]
  },
  {
   "cell_type": "markdown",
   "id": "47dcfcbd",
   "metadata": {},
   "source": [
    "## Step 3: Merge Ratings with Movie Titles to Create Full Data"
   ]
  },
  {
   "cell_type": "code",
   "execution_count": 22,
   "id": "54919641",
   "metadata": {},
   "outputs": [],
   "source": [
    "import pandas as pd\n",
    "file_path = 'data/movie_titles.csv'\n",
    "# List to store cleaned movie records\n",
    "movies = []\n",
    "with open(file_path, encoding='latin1') as f:\n",
    "    for line in f:\n",
    "        # Split into exactly 3 parts: Movie_Id, Year_Release, Name\n",
    "        parts = line.strip().split(',', 2)\n",
    "        if len(parts) == 3:\n",
    "            movie_id, year, name = parts\n",
    "            movie_id = movie_id.strip()\n",
    "            year = year.strip()\n",
    "            name = name.strip()\n",
    "            if movie_id.isdigit() and year.isdigit():\n",
    "                movies.append([int(movie_id), int(year), name])\n",
    "            else:\n",
    "                pass\n",
    "movies_df = pd.DataFrame(movies, columns=['Movie_Id', 'Year_Release', 'Name'])"
   ]
  },
  {
   "cell_type": "code",
   "execution_count": 17,
   "id": "83595caa-d03d-4eb9-8b26-51323ac2d5b7",
   "metadata": {},
   "outputs": [],
   "source": [
    "#ratings_df= pd.read_csv('data/Netflix-Prize-Dataset.csv')"
   ]
  },
  {
   "cell_type": "code",
   "execution_count": 24,
   "id": "d557cab2-061b-423b-a284-cfd56f092e95",
   "metadata": {},
   "outputs": [
    {
     "name": "stdout",
     "output_type": "stream",
     "text": [
      "Saved Full_Data.csv\n"
     ]
    }
   ],
   "source": [
    "full_data = ratings_df.merge(movies_df, on='Movie_Id', how='left')\n",
    "full_data.to_csv(os.path.join(data_folder, 'Full_Data.csv'), index=False)\n",
    "print(\"Saved Full_Data.csv\")"
   ]
  }
 ],
 "metadata": {
  "kernelspec": {
   "display_name": "Python [conda env:base] *",
   "language": "python",
   "name": "conda-base-py"
  },
  "language_info": {
   "codemirror_mode": {
    "name": "ipython",
    "version": 3
   },
   "file_extension": ".py",
   "mimetype": "text/x-python",
   "name": "python",
   "nbconvert_exporter": "python",
   "pygments_lexer": "ipython3",
   "version": "3.12.7"
  }
 },
 "nbformat": 4,
 "nbformat_minor": 5
}
